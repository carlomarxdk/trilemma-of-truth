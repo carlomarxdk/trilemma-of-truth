{
 "cells": [
  {
   "cell_type": "markdown",
   "id": "83fd1f8d",
   "metadata": {},
   "source": [
    "# Load data from the Huggin Face Hub\n",
    "You can download the preprocessed data (with splits) using the `datasets` package.\n",
    "We provide three datasets: `city_locations`, `med_indications` and `word_definitions` (eacha has `train`, `validation` and `test` splits)."
   ]
  },
  {
   "cell_type": "code",
   "execution_count": null,
   "id": "b172e57f",
   "metadata": {},
   "outputs": [],
   "source": [
    "from datasets import load_dataset"
   ]
  },
  {
   "cell_type": "code",
   "execution_count": null,
   "id": "bd06ec15",
   "metadata": {},
   "outputs": [],
   "source": [
    "# Option 1: Load the dataset with all splits\n",
    "ds = load_dataset(\"carlomarxx/trilemma-of-truth\", name=\"city_locations\")\n",
    "df = ds[\"train\"].to_pandas()"
   ]
  },
  {
   "cell_type": "code",
   "execution_count": null,
   "id": "30c58b5b",
   "metadata": {},
   "outputs": [],
   "source": [
    "# Option 2: Load the dataset with a specific split\n",
    "ds = load_dataset(\"carlomarxx/trilemma-of-truth\", name=\"city_locations\", split=\"train\")\n",
    "# Convert to pandas DataFrame\n",
    "df = ds.to_pandas()"
   ]
  }
 ],
 "metadata": {
  "kernelspec": {
   "display_name": "belief-representation-dS6b1P8F-python",
   "language": "python",
   "name": "python3"
  },
  "language_info": {
   "codemirror_mode": {
    "name": "ipython",
    "version": 3
   },
   "file_extension": ".py",
   "mimetype": "text/x-python",
   "name": "python",
   "nbconvert_exporter": "python",
   "pygments_lexer": "ipython3",
   "version": "3.11.9"
  }
 },
 "nbformat": 4,
 "nbformat_minor": 5
}

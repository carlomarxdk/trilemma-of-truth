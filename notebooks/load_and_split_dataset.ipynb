{
 "cells": [
  {
   "cell_type": "markdown",
   "id": "1314b8ba",
   "metadata": {},
   "source": [
    "## Load and Split data "
   ]
  },
  {
   "cell_type": "code",
   "execution_count": null,
   "id": "7582c57f",
   "metadata": {},
   "outputs": [],
   "source": [
    "from omegaconf import OmegaConf\n",
    "from pathlib import Path\n",
    "import sys\n",
    "from hydra import initialize, compose\n",
    "import os\n",
    "\n",
    "# add parent directory to sys.path\n",
    "sys.path.append(str(Path().resolve().parent))\n",
    "from data_handler import DataHandler"
   ]
  },
  {
   "cell_type": "code",
   "execution_count": 21,
   "id": "dba0f781",
   "metadata": {},
   "outputs": [],
   "source": [
    "def load_hydra_config_with_params(model, datapack, probe, config_name):\n",
    "    with initialize(version_base=\"1.1\", config_path=\"../configs\"):\n",
    "        cfg = compose(config_name=config_name, overrides=[f\"model={model}\", f\"datapack={datapack}\", f\"probe={probe}\"])\n",
    "    OmegaConf.set_struct(cfg, False)  # Allow overriding\n",
    "    trial_name = cfg.trial_name\n",
    "    if cfg.probe['name'] == 'mean_diff':\n",
    "        cfg.search = False\n",
    "    if cfg.search:\n",
    "        trial_name += \"_search\"\n",
    "    trial_name += f'_task-{cfg.task}'\n",
    "    cfg[\"trial_name\"] = trial_name\n",
    "    # if cfg[\"task\"] == 2:\n",
    "    #     cfg[\"probe\"][\"assume_known_positives\"] = False\n",
    "    cfg[\"output_dir\"] = os.path.join(cfg.output_dir, trial_name)\n",
    "    OmegaConf.set_struct(cfg, True)\n",
    "    return OmegaConf.to_container(cfg, resolve=True)"
   ]
  },
  {
   "cell_type": "code",
   "execution_count": null,
   "id": "878d556f",
   "metadata": {},
   "outputs": [],
   "source": [
    "datapack_name = 'city_locations'\n",
    "model_name = 'llama-3-8b'\n",
    "probe = 'sawmil'\n",
    "cfg = load_hydra_config_with_params(model = model_name, datapack=datapack_name, probe = probe, config_name=\"probe_mil\")\n",
    "datapack_params = cfg[\"datapack\"]\n",
    "dh = DataHandler(model=model_name,datasets=datapack_params['datasets'], dataset_path='../datasets/', activation_type=datapack_params[\"agg\"], with_calibration=True, load_scores='default', verbose=True)\n",
    "dh.assemble(exclusive_split=datapack_params[\"exclusive_split\"], test_size=datapack_params[\"test_size\"], calibration_size=datapack_params[\"cal_size\"], seed=datapack_params[\"random_seed\"])\n",
    "dh.get_train_df().shape, dh.get_test_df().shape,  dh.get_cal_df().shape, dh.get_dataframe().shape"
   ]
  }
 ],
 "metadata": {
  "kernelspec": {
   "display_name": "belief-representation-dS6b1P8F-python",
   "language": "python",
   "name": "python3"
  },
  "language_info": {
   "codemirror_mode": {
    "name": "ipython",
    "version": 3
   },
   "file_extension": ".py",
   "mimetype": "text/x-python",
   "name": "python",
   "nbconvert_exporter": "python",
   "pygments_lexer": "ipython3",
   "version": "3.11.9"
  }
 },
 "nbformat": 4,
 "nbformat_minor": 5
}
